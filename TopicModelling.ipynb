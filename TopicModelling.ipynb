{
  "nbformat": 4,
  "nbformat_minor": 0,
  "metadata": {
    "colab": {
      "provenance": [],
      "authorship_tag": "ABX9TyP3VVxTrOtEUJaKao6g+Uvk",
      "include_colab_link": true
    },
    "kernelspec": {
      "name": "python3",
      "display_name": "Python 3"
    },
    "language_info": {
      "name": "python"
    }
  },
  "cells": [
    {
      "cell_type": "markdown",
      "metadata": {
        "id": "view-in-github",
        "colab_type": "text"
      },
      "source": [
        "<a href=\"https://colab.research.google.com/github/Bravyn/DataFrame/blob/main/TopicModelling.ipynb\" target=\"_parent\"><img src=\"https://colab.research.google.com/assets/colab-badge.svg\" alt=\"Open In Colab\"/></a>"
      ]
    },
    {
      "cell_type": "code",
      "execution_count": null,
      "metadata": {
        "id": "CKLfoXCrJecS"
      },
      "outputs": [],
      "source": [
        "!pip install datasets evaluate transformers[sentencepiece]"
      ]
    },
    {
      "cell_type": "code",
      "source": [
        "from transformers import pipeline"
      ],
      "metadata": {
        "id": "rHYHSusCLGuT"
      },
      "execution_count": 3,
      "outputs": []
    },
    {
      "cell_type": "code",
      "source": [
        "topic_classifier = pipeline(\"zero-shot-classification\")"
      ],
      "metadata": {
        "id": "MNUeraSKLN-k"
      },
      "execution_count": null,
      "outputs": []
    },
    {
      "cell_type": "code",
      "source": [
        "scores = topic_classifier(\n",
        "    \"I have a meeting with the CTO, later with the goalkeeper\",  candidate_labels = [\"Business\", \"Sports\", \"Art\"]\n",
        ")"
      ],
      "metadata": {
        "id": "9M3MP8rBL8X3"
      },
      "execution_count": 23,
      "outputs": []
    },
    {
      "cell_type": "code",
      "source": [
        "scores"
      ],
      "metadata": {
        "colab": {
          "base_uri": "https://localhost:8080/"
        },
        "id": "I8cpxTDsMnHP",
        "outputId": "a18be748-5265-45f0-cde4-17896547553f"
      },
      "execution_count": 24,
      "outputs": [
        {
          "output_type": "execute_result",
          "data": {
            "text/plain": [
              "{'sequence': 'I have a meeting with the CTO, later with the goalkeeper',\n",
              " 'labels': ['Business', 'Sports', 'Art'],\n",
              " 'scores': [0.5553248524665833, 0.31916067004203796, 0.1255144625902176]}"
            ]
          },
          "metadata": {},
          "execution_count": 24
        }
      ]
    },
    {
      "cell_type": "code",
      "source": [
        "max(scores['scores'])"
      ],
      "metadata": {
        "colab": {
          "base_uri": "https://localhost:8080/"
        },
        "id": "f51_oTj0NnK4",
        "outputId": "1a111aa4-f3b6-41f0-c4f2-266863487d4c"
      },
      "execution_count": 27,
      "outputs": [
        {
          "output_type": "execute_result",
          "data": {
            "text/plain": [
              "0.5553248524665833"
            ]
          },
          "metadata": {},
          "execution_count": 27
        }
      ]
    },
    {
      "cell_type": "code",
      "source": [
        "print(f\"The sequence is most likely from a {sorted(dict(zip(scores['labels'], scores['scores'])).keys(), key = lambda x : [1])[0].lower()} setting.\")"
      ],
      "metadata": {
        "colab": {
          "base_uri": "https://localhost:8080/"
        },
        "id": "zxGwI6l2Of19",
        "outputId": "98c69134-8c4b-4aae-d7be-dfa9eb15b6b8"
      },
      "execution_count": 59,
      "outputs": [
        {
          "output_type": "stream",
          "name": "stdout",
          "text": [
            "The sequence is most likely from a business setting.\n"
          ]
        }
      ]
    },
    {
      "cell_type": "code",
      "source": [],
      "metadata": {
        "id": "Doab3GjJQEzW"
      },
      "execution_count": null,
      "outputs": []
    }
  ]
}