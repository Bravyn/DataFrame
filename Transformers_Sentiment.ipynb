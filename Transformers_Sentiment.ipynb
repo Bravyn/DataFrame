{
  "nbformat": 4,
  "nbformat_minor": 0,
  "metadata": {
    "colab": {
      "provenance": [],
      "authorship_tag": "ABX9TyNHUKtlFwyZ/TzCYQA2IpRh",
      "include_colab_link": true
    },
    "kernelspec": {
      "name": "python3",
      "display_name": "Python 3"
    },
    "language_info": {
      "name": "python"
    }
  },
  "cells": [
    {
      "cell_type": "markdown",
      "metadata": {
        "id": "view-in-github",
        "colab_type": "text"
      },
      "source": [
        "<a href=\"https://colab.research.google.com/github/Bravyn/DataFrame/blob/main/Transformers_Sentiment.ipynb\" target=\"_parent\"><img src=\"https://colab.research.google.com/assets/colab-badge.svg\" alt=\"Open In Colab\"/></a>"
      ]
    },
    {
      "cell_type": "markdown",
      "source": [
        "Install the transformers, evaluate and datasets libraries"
      ],
      "metadata": {
        "id": "BvJEmCUt8Pcb"
      }
    },
    {
      "cell_type": "code",
      "execution_count": null,
      "metadata": {
        "id": "iB5Wb-c-5Bd4"
      },
      "outputs": [],
      "source": [
        "!pip install datasets evaluate transformers[sentencepiece]"
      ]
    },
    {
      "cell_type": "code",
      "source": [
        "from transformers import pipeline"
      ],
      "metadata": {
        "id": "IySCTt8M5T2D"
      },
      "execution_count": 7,
      "outputs": []
    },
    {
      "cell_type": "code",
      "source": [
        "classifier = pipeline(\"sentiment-analysis\")\n"
      ],
      "metadata": {
        "id": "fIWcZYDk6rEq"
      },
      "execution_count": null,
      "outputs": []
    },
    {
      "cell_type": "code",
      "source": [
        "sentiment = classifier(\"I feel happy right now, right here!\")"
      ],
      "metadata": {
        "id": "A2wYn7KV62mW"
      },
      "execution_count": 10,
      "outputs": []
    },
    {
      "cell_type": "code",
      "source": [
        "print(sentiment)"
      ],
      "metadata": {
        "colab": {
          "base_uri": "https://localhost:8080/"
        },
        "id": "3sQxJ9O77TAW",
        "outputId": "75561170-a367-45cf-9b78-0ffbb1ff96d4"
      },
      "execution_count": 11,
      "outputs": [
        {
          "output_type": "stream",
          "name": "stdout",
          "text": [
            "[{'label': 'POSITIVE', 'score': 0.9998748302459717}]\n"
          ]
        }
      ]
    },
    {
      "cell_type": "code",
      "source": [
        "sentiment_label = sentiment[0]['label']\n",
        "print(sentiment_label)"
      ],
      "metadata": {
        "colab": {
          "base_uri": "https://localhost:8080/"
        },
        "id": "26DgsIcl7ccJ",
        "outputId": "303fde10-3858-4a8c-bf32-b834d645b2cd"
      },
      "execution_count": 16,
      "outputs": [
        {
          "output_type": "stream",
          "name": "stdout",
          "text": [
            "POSITIVE\n"
          ]
        }
      ]
    },
    {
      "cell_type": "code",
      "source": [
        "sentiment_score = sentiment[0]['score']\n",
        "print(sentiment_score)"
      ],
      "metadata": {
        "colab": {
          "base_uri": "https://localhost:8080/"
        },
        "id": "jJ6d9qLy7hTV",
        "outputId": "84259d58-7813-478a-b3e2-23e5027ba2dd"
      },
      "execution_count": 17,
      "outputs": [
        {
          "output_type": "stream",
          "name": "stdout",
          "text": [
            "0.9998748302459717\n"
          ]
        }
      ]
    },
    {
      "cell_type": "markdown",
      "source": [
        "We can pass in a list of sentences"
      ],
      "metadata": {
        "id": "XsJOWbSiHFze"
      }
    },
    {
      "cell_type": "code",
      "source": [
        "sentiments= classifier(\n",
        "    [\n",
        "        \"I love swimming. But it is too cold right now.\",\"I hate swimming. But it's warm I love it now\"\n",
        "    ]\n",
        ")"
      ],
      "metadata": {
        "id": "PbMVn1qk7pLD"
      },
      "execution_count": 21,
      "outputs": []
    },
    {
      "cell_type": "code",
      "source": [
        "sentiments"
      ],
      "metadata": {
        "colab": {
          "base_uri": "https://localhost:8080/"
        },
        "id": "SEUB9SU7HYug",
        "outputId": "7aa7f3ee-d9ea-49f7-ccb8-67263219582f"
      },
      "execution_count": 22,
      "outputs": [
        {
          "output_type": "execute_result",
          "data": {
            "text/plain": [
              "[{'label': 'NEGATIVE', 'score': 0.9981915354728699},\n",
              " {'label': 'POSITIVE', 'score': 0.9998750686645508}]"
            ]
          },
          "metadata": {},
          "execution_count": 22
        }
      ]
    },
    {
      "cell_type": "code",
      "source": [
        "print(f\"The first sentence is { sentiments[0]['label']} and the second sentence is { sentiments[1]['label']}\")"
      ],
      "metadata": {
        "colab": {
          "base_uri": "https://localhost:8080/"
        },
        "id": "4meGNUjWHvDo",
        "outputId": "4b178bc2-1c0e-4b49-fd8f-48ac6f360142"
      },
      "execution_count": 25,
      "outputs": [
        {
          "output_type": "stream",
          "name": "stdout",
          "text": [
            "The first sentence is NEGATIVE and the second sentence is POSITIVE\n"
          ]
        }
      ]
    },
    {
      "cell_type": "markdown",
      "source": [],
      "metadata": {
        "id": "Bi6P-fZZJTCC"
      }
    },
    {
      "cell_type": "code",
      "source": [],
      "metadata": {
        "id": "zrgARGCaIebu"
      },
      "execution_count": null,
      "outputs": []
    }
  ]
}